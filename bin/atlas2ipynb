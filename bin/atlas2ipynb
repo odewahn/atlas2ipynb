#!/usr/bin/env ruby
# encoding: UTF-8

require 'rubygems'
require 'atlas2ipynb'

#*************************************************************************************
# Convert all chapter files in the directory into ipynb
#*************************************************************************************

Dir["ch*.html"].each do |fn|
  out = Atlas2ipynb::html_to_ipynb(fn)
  # Compute the new filename, which is the original filename 
  # with the ".html" (last 5 chars) replaced with ".ipynb".   
  title_fn = Atlas2ipynb::string_to_filename(out['metadata']['name'])
  ipynb_fn = "#{fn[0,fn.length-5]}_#{title_fn}.ipynb"
  puts "Converting #{title_fn} to #{ipynb_fn}"
  # Create the file
  f = File.open(ipynb_fn, 'w')
  f.write JSON.pretty_generate(out)
  f.close
end