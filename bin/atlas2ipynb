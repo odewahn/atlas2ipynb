#!/usr/bin/env ruby
# encoding: UTF-8

require 'rubygems'
require 'atlas2ipynb'


c = Atlas2ipynb::Converter.new
c.convert!