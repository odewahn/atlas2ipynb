#!/usr/bin/env ruby
# encoding: UTF-8

require 'rubygems'
require 'atlas2ipynb'


Atlas2ipynb::convert